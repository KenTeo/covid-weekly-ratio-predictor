{
 "cells": [
  {
   "cell_type": "markdown",
   "id": "fcb59c53",
   "metadata": {},
   "source": [
    "### Using time-series modelling to predict covid community weekly-infection-ratio in Singapore\n",
    "\n",
    "In this project, we will be applying ARIMA, ARIMAX and neural networks to model the time-series data.\n",
    "\n",
    "The following steps are executed to \n",
    "- Extract data from https://covidsitrep.moh.gov.sg/_dash-layout\n",
    "- The community, dormitory and imported weekly cases and weekly-ratio\n",
    "- Check for stationary of dataset\n",
    "- Fit data to model\n",
    "- Tune parameters of model\n",
    "- Visualize actual and predicted data"
   ]
  },
  {
   "cell_type": "code",
   "execution_count": 159,
   "id": "8c103c0f",
   "metadata": {},
   "outputs": [],
   "source": [
    "# Import libraries\n",
    "import requests\n",
    "import pandas as pd\n",
    "import time\n",
    "import sys\n",
    "import seaborn as sns\n",
    "import matplotlib.pyplot as plt\n",
    "import matplotlib.ticker as ticker\n",
    "import numpy as np\n",
    "import tensorflow as tf\n",
    "from tensorflow.keras.models import Sequential\n",
    "from tensorflow.keras.layers import LSTM\n",
    "from tensorflow.keras.layers import Dense, Dropout\n",
    "from tensorflow.keras.regularizers import l2, l1\n",
    "from sklearn.preprocessing import StandardScaler\n",
    "from sklearn.metrics import mean_squared_error\n",
    "from scipy import stats\n",
    "import pickle"
   ]
  },
  {
   "cell_type": "code",
   "execution_count": 160,
   "id": "7ab64a0a",
   "metadata": {},
   "outputs": [],
   "source": [
    "# Import JSON data from covidsitrep MOH website\n",
    "API_path = 'https://covidsitrep.moh.gov.sg/_dash-layout'\n",
    "MOH = requests.get(API_path).json()"
   ]
  },
  {
   "cell_type": "code",
   "execution_count": 161,
   "id": "bf6d64ba",
   "metadata": {},
   "outputs": [],
   "source": [
    "# Extract relevant data from JSON data\n",
    "# 0 & 1 - Community Cases\n",
    "# 2 & 3 - Dorm Cases\n",
    "# 4 & 5 - Imported Cases\n",
    "date_1 = MOH['props']['children'][1]['props']['children'][2]['props']['children'][0]['props']['figure']['data'][0]['x']\n",
    "date_2 = MOH['props']['children'][1]['props']['children'][2]['props']['children'][0]['props']['figure']['data'][1]['x']\n",
    "comm_cases_1 = MOH['props']['children'][1]['props']['children'][2]['props']['children'][0]['props']['figure']['data'][0]['y']\n",
    "comm_cases_2 = MOH['props']['children'][1]['props']['children'][2]['props']['children'][0]['props']['figure']['data'][1]['y']\n",
    "dorm_cases_1 = MOH['props']['children'][1]['props']['children'][2]['props']['children'][0]['props']['figure']['data'][2]['y']\n",
    "dorm_cases_2 = MOH['props']['children'][1]['props']['children'][2]['props']['children'][0]['props']['figure']['data'][3]['y']\n",
    "import_cases_1 = MOH['props']['children'][1]['props']['children'][2]['props']['children'][0]['props']['figure']['data'][4]['y']\n",
    "import_cases_2 = MOH['props']['children'][1]['props']['children'][2]['props']['children'][0]['props']['figure']['data'][5]['y']"
   ]
  },
  {
   "cell_type": "code",
   "execution_count": 162,
   "id": "fd5f293f",
   "metadata": {
    "scrolled": true
   },
   "outputs": [],
   "source": [
    "# Format the data into a pandas dataframe\n",
    "d = {\"date\": date_1+date_2, \"comm_cases\": comm_cases_1+comm_cases_2, \n",
    "     \"dorm_cases\": dorm_cases_1+dorm_cases_2,\"import_cases\": import_cases_1+import_cases_2}\n",
    "df = pd.DataFrame(data=d)\n",
    "train_dates = pd.to_datetime(df['date'])"
   ]
  },
  {
   "cell_type": "code",
   "execution_count": 163,
   "id": "14f6d992",
   "metadata": {
    "scrolled": true
   },
   "outputs": [
    {
     "name": "stdout",
     "output_type": "stream",
     "text": [
      "<class 'pandas.core.frame.DataFrame'>\n",
      "RangeIndex: 718 entries, 0 to 717\n",
      "Data columns (total 4 columns):\n",
      " #   Column        Non-Null Count  Dtype  \n",
      "---  ------        --------------  -----  \n",
      " 0   date          718 non-null    object \n",
      " 1   comm_cases    718 non-null    float64\n",
      " 2   dorm_cases    718 non-null    float64\n",
      " 3   import_cases  718 non-null    float64\n",
      "dtypes: float64(3), object(1)\n",
      "memory usage: 22.6+ KB\n"
     ]
    }
   ],
   "source": [
    "# Check if any null values are present and the data types of the data.\n",
    "df.info()"
   ]
  },
  {
   "cell_type": "code",
   "execution_count": 164,
   "id": "eff577ed",
   "metadata": {},
   "outputs": [],
   "source": [
    "# Function to generate the total covid cases in a week\n",
    "def weekly_cases(select, column_name):\n",
    "    weekly_cases = [0, 0, 0, 0, 0, 0]\n",
    "    for x in range(6, len(select)):\n",
    "        weekly_avg = (select.loc[x, column_name]+\n",
    "                     select.loc[x-1, column_name]+\n",
    "                     select.loc[x-2, column_name]+\n",
    "                     select.loc[x-3, column_name]+\n",
    "                     select.loc[x-4, column_name]+\n",
    "                     select.loc[x-5, column_name]+\n",
    "                     select.loc[x-6, column_name])\n",
    "        weekly_cases.append(weekly_avg)\n",
    "    return weekly_cases"
   ]
  },
  {
   "cell_type": "code",
   "execution_count": 165,
   "id": "d0629c9d",
   "metadata": {},
   "outputs": [],
   "source": [
    "# Function to generate the week-to-week infection ratio. See link below for details.\n",
    "# (https://www.todayonline.com/singapore/explainer-what-weekly-infection-growth-rate-and-how-does-it-help-us-assess-covid-19)\n",
    "def weekly_ratio(select, column_name):\n",
    "    weekly_ratio = [0.0]*13\n",
    "    for x in range(13, len(select)):\n",
    "        if select.loc[x-7, column_name] == 0:\n",
    "            weekly_ratio.append(weekly_ratio[-1])\n",
    "        else:\n",
    "            avg_ratio = (select.loc[x, column_name])/select.loc[x-7, column_name]\n",
    "            weekly_ratio.append(avg_ratio)\n",
    "    return weekly_ratio"
   ]
  },
  {
   "cell_type": "code",
   "execution_count": 166,
   "id": "fad6ca3c",
   "metadata": {
    "scrolled": true
   },
   "outputs": [],
   "source": [
    "# Generate weekly cases and week-to-week infection ratio\n",
    "df[\"comm_weekly_cases\"] = weekly_cases(df, \"comm_cases\")\n",
    "df[\"comm_weekly_ratio\"] = weekly_ratio(df, \"comm_weekly_cases\")\n",
    "df[\"dorm_weekly_cases\"] = weekly_cases(df, \"dorm_cases\")\n",
    "df[\"dorm_weekly_ratio\"] = weekly_ratio(df, \"dorm_weekly_cases\")\n",
    "df[\"import_weekly_cases\"] = weekly_cases(df, \"import_cases\")\n",
    "df[\"import_weekly_ratio\"] = weekly_ratio(df, \"import_weekly_cases\")"
   ]
  },
  {
   "cell_type": "code",
   "execution_count": 167,
   "id": "94b6e8c6",
   "metadata": {
    "scrolled": false
   },
   "outputs": [],
   "source": [
    "# Remove daily cases as daily cases are highly volatile and not stable for predicting\n",
    "df.drop(columns=[\"comm_cases\",\"dorm_cases\", \"import_cases\"], axis=1, inplace=True)\n",
    "df.drop(df.index[:14], inplace=True)\n",
    "df.reset_index(drop=True, inplace=True)"
   ]
  },
  {
   "cell_type": "code",
   "execution_count": 37,
   "id": "2303aa65",
   "metadata": {},
   "outputs": [
    {
     "data": {
      "text/plain": [
       "<matplotlib.legend.Legend at 0x7fc87429c910>"
      ]
     },
     "execution_count": 37,
     "metadata": {},
     "output_type": "execute_result"
    },
    {
     "data": {
      "image/png": "[encoded data removed]",
      "text/plain": [
       "<Figure size 1152x576 with 1 Axes>"
      ]
     },
     "metadata": {
      "needs_background": "light"
     },
     "output_type": "display_data"
    }
   ],
   "source": [
    "slope, intercept, r_value, p_value, std_err = stats.linregress(df[\"comm_weekly_cases\"],df[\"comm_weekly_ratio\"])\n",
    "fig, ax = plt.subplots(figsize=(16,8))\n",
    "graph1 = sns.regplot(x=\"comm_weekly_cases\", y=\"comm_weekly_ratio\", data=df, ax=ax,\n",
    "                 line_kws={'label':\"y={0:.4f}x+{1:.4f}\".format(slope,intercept)})\n",
    "graph1.legend()"
   ]
  },
  {
   "cell_type": "code",
   "execution_count": 39,
   "id": "364aea97",
   "metadata": {},
   "outputs": [
    {
     "data": {
      "text/plain": [
       "<matplotlib.legend.Legend at 0x7fc874238f10>"
      ]
     },
     "execution_count": 39,
     "metadata": {},
     "output_type": "execute_result"
    },
    {
     "data": {
      "image/png": "[encoded data removed]",
      "text/plain": [
       "<Figure size 1152x576 with 1 Axes>"
      ]
     },
     "metadata": {
      "needs_background": "light"
     },
     "output_type": "display_data"
    }
   ],
   "source": [
    "slope, intercept, r_value, p_value, std_err = stats.linregress(df[\"dorm_weekly_cases\"],df[\"dorm_weekly_ratio\"])\n",
    "fig, ax = plt.subplots(figsize=(16,8))\n",
    "graph2 = sns.regplot(x=\"dorm_weekly_cases\", y=\"dorm_weekly_ratio\", data=df, ax=ax,\n",
    "                 line_kws={'label':\"y={0:.4f}x+{1:.4f}\".format(slope,intercept)})\n",
    "graph2.legend()"
   ]
  },
  {
   "cell_type": "code",
   "execution_count": 40,
   "id": "84a90e50",
   "metadata": {
    "scrolled": false
   },
   "outputs": [
    {
     "data": {
      "text/plain": [
       "<matplotlib.legend.Legend at 0x7fc8743a7520>"
      ]
     },
     "execution_count": 40,
     "metadata": {},
     "output_type": "execute_result"
    },
    {
     "data": {
      "image/png": "[encoded data removed]",
      "text/plain": [
       "<Figure size 1152x576 with 1 Axes>"
      ]
     },
     "metadata": {
      "needs_background": "light"
     },
     "output_type": "display_data"
    }
   ],
   "source": [
    "slope, intercept, r_value, p_value, std_err = stats.linregress(df[\"import_weekly_cases\"],df[\"import_weekly_ratio\"])\n",
    "fig, ax = plt.subplots(figsize=(16,8))\n",
    "graph3 = sns.regplot(x=\"import_weekly_cases\", y=\"import_weekly_ratio\", data=df, ax=ax,\n",
    "                 line_kws={'label':\"y={0:.4f}x+{1:.4f}\".format(slope,intercept)})\n",
    "graph3.legend()"
   ]
  },
  {
   "cell_type": "markdown",
   "id": "32490a54",
   "metadata": {},
   "source": [
    "No observable relationship between weekly cases and weekly ratio"
   ]
  },
  {
   "cell_type": "code",
   "execution_count": 57,
   "id": "3a20bcad",
   "metadata": {
    "scrolled": false
   },
   "outputs": [
    {
     "data": {
      "text/plain": [
       "<AxesSubplot:ylabel='import_weekly_ratio'>"
      ]
     },
     "execution_count": 57,
     "metadata": {},
     "output_type": "execute_result"
    },
    {
     "data": {
      "image/png": "[encoded data removed]",
      "text/plain": [
       "<Figure size 1440x576 with 3 Axes>"
      ]
     },
     "metadata": {
      "needs_background": "light"
     },
     "output_type": "display_data"
    }
   ],
   "source": [
    "fig, axes = plt.subplots(nrows=1, ncols=3, figsize=(20,8))\n",
    "sns.boxplot(data=df, y=\"comm_weekly_ratio\", ax=axes[0])\n",
    "sns.boxplot(data=df, y=\"dorm_weekly_ratio\", ax=axes[1])\n",
    "sns.boxplot(data=df, y=\"import_weekly_ratio\", ax=axes[2])"
   ]
  },
  {
   "cell_type": "markdown",
   "id": "ef49cfd8",
   "metadata": {},
   "source": [
    "Most weekly ratio are between 0 to 5."
   ]
  },
  {
   "cell_type": "markdown",
   "id": "1d63d560",
   "metadata": {},
   "source": [
    "### Checking for stationary of dataset\n",
    "Dataset is considered stationary if p-value is less than or equal to 0.05.\n",
    "\n",
    "If dataset is non-stationary, differencing will be perform on the dataset and stationary of differtiated data will\n",
    "be check again."
   ]
  },
  {
   "cell_type": "code",
   "execution_count": 259,
   "id": "9749ae3f",
   "metadata": {
    "scrolled": true
   },
   "outputs": [],
   "source": [
    "from statsmodels.tsa.stattools import adfuller"
   ]
  },
  {
   "cell_type": "code",
   "execution_count": 262,
   "id": "41e5b76c",
   "metadata": {},
   "outputs": [],
   "source": [
    "def adfuller_test(data):\n",
    "    result=adfuller(data)\n",
    "    labels = ['ADF Test Statistic','p-value','#Lags Used','Number of Observations Used']\n",
    "    for value,label in zip(result,labels):\n",
    "        print(label+' : '+str(value) )\n",
    "    if result[1] <= 0.05:\n",
    "        print(\"Data has no unit root and is stationary and differencing is not needed\")\n",
    "    else:\n",
    "        print(\"Time series has a unit root, indicating it is non-stationary\")"
   ]
  },
  {
   "cell_type": "code",
   "execution_count": 263,
   "id": "7f4c2950",
   "metadata": {
    "scrolled": false
   },
   "outputs": [
    {
     "name": "stdout",
     "output_type": "stream",
     "text": [
      "ADF Test Statistic : -5.502206838053259\n",
      "p-value : 2.0592190699544047e-06\n",
      "#Lags Used : 16\n",
      "Number of Observations Used : 687\n",
      "Data has no unit root and is stationary and differencing is not needed\n"
     ]
    }
   ],
   "source": [
    "adfuller_test(df[\"comm_weekly_ratio\"])"
   ]
  },
  {
   "cell_type": "markdown",
   "id": "7744774a",
   "metadata": {},
   "source": [
    "### ARIMA Parameters\n",
    "\n",
    "Each component in ARIMA functions as a parameter with a standard notation. For ARIMA models, a standard notation would be ARIMA with p, d, and q, 3 parameters to fine-tune.\n",
    "\n",
    "The parameters are defined as:\n",
    "\n",
    "    p: the number of lag observations in the model; also known as the lag order.\n",
    "    d: the number of times that the raw observations are differenced; also known as the degree of differencing.\n",
    "    q: the size of the moving average window; also known as the order of the moving average."
   ]
  },
  {
   "cell_type": "code",
   "execution_count": 203,
   "id": "800207a4",
   "metadata": {},
   "outputs": [],
   "source": [
    "df_arima = df[[\"date\", \"comm_weekly_ratio\"]]"
   ]
  },
  {
   "cell_type": "code",
   "execution_count": 204,
   "id": "c3d1c530",
   "metadata": {},
   "outputs": [
    {
     "name": "stderr",
     "output_type": "stream",
     "text": [
      "/tmp/ipykernel_98657/3307134559.py:1: SettingWithCopyWarning: \n",
      "A value is trying to be set on a copy of a slice from a DataFrame.\n",
      "Try using .loc[row_indexer,col_indexer] = value instead\n",
      "\n",
      "See the caveats in the documentation: https://pandas.pydata.org/pandas-docs/stable/user_guide/indexing.html#returning-a-view-versus-a-copy\n",
      "  df_arima['date']=pd.to_datetime(df_arima[\"date\"])\n"
     ]
    }
   ],
   "source": [
    "df_arima['date']=pd.to_datetime(df_arima[\"date\"])\n",
    "df_arima.set_index('date',inplace=True)"
   ]
  },
  {
   "cell_type": "code",
   "execution_count": 205,
   "id": "98ecf2fb",
   "metadata": {
    "scrolled": false
   },
   "outputs": [
    {
     "data": {
      "text/plain": [
       "<AxesSubplot:xlabel='date', ylabel='comm_weekly_ratio'>"
      ]
     },
     "execution_count": 205,
     "metadata": {},
     "output_type": "execute_result"
    },
    {
     "data": {
      "image/png": "[encoded data removed]",
      "text/plain": [
       "<Figure size 432x288 with 1 Axes>"
      ]
     },
     "metadata": {
      "needs_background": "light"
     },
     "output_type": "display_data"
    }
   ],
   "source": [
    "sns.lineplot(data=df_arima, x=\"date\", y=\"comm_weekly_ratio\")"
   ]
  },
  {
   "cell_type": "code",
   "execution_count": 206,
   "id": "f520210e",
   "metadata": {},
   "outputs": [],
   "source": [
    "from statsmodels.graphics.tsaplots import plot_acf,plot_pacf\n",
    "from statsmodels.tsa.arima.model import ARIMA\n",
    "from pandas.tseries.offsets import DateOffset"
   ]
  },
  {
   "cell_type": "code",
   "execution_count": 221,
   "id": "660d73b6",
   "metadata": {},
   "outputs": [
    {
     "name": "stderr",
     "output_type": "stream",
     "text": [
      "/home/ken/git_repo/API_project/venv/lib/python3.9/site-packages/statsmodels/graphics/tsaplots.py:348: FutureWarning: The default method 'yw' can produce PACF values outside of the [-1,1] interval. After 0.13, the default will change tounadjusted Yule-Walker ('ywm'). You can use this method now by setting method='ywm'.\n",
      "  warnings.warn(\n"
     ]
    },
    {
     "data": {
      "image/png": "[encoded data removed]",
      "text/plain": [
       "<Figure size 864x576 with 2 Axes>"
      ]
     },
     "metadata": {
      "needs_background": "light"
     },
     "output_type": "display_data"
    }
   ],
   "source": [
    "fig = plt.figure(figsize=(12,8))\n",
    "# Decide the value for q, a suitable q will be the number of points beginning that is outside of the blue-shaded area\n",
    "ax1 = fig.add_subplot(211)\n",
    "fig = plot_acf(df_arima[\"comm_weekly_ratio\"].iloc[1:],lags=40,ax=ax1)\n",
    "# Decide the value for p, a suitable p will be the number of points beginning that is outside of the blue-shaded area\n",
    "ax2 = fig.add_subplot(212)\n",
    "fig = plot_pacf(df_arima[\"comm_weekly_ratio\"].iloc[1:],lags=40,ax=ax2)\n",
    "# d = 0"
   ]
  },
  {
   "cell_type": "code",
   "execution_count": 277,
   "id": "16c30c24",
   "metadata": {
    "scrolled": true
   },
   "outputs": [
    {
     "name": "stderr",
     "output_type": "stream",
     "text": [
      "/home/ken/git_repo/API_project/venv/lib/python3.9/site-packages/statsmodels/tsa/base/tsa_model.py:536: ValueWarning: No frequency information was provided, so inferred frequency D will be used.\n",
      "  warnings.warn('No frequency information was'\n",
      "/home/ken/git_repo/API_project/venv/lib/python3.9/site-packages/statsmodels/tsa/base/tsa_model.py:536: ValueWarning: No frequency information was provided, so inferred frequency D will be used.\n",
      "  warnings.warn('No frequency information was'\n",
      "/home/ken/git_repo/API_project/venv/lib/python3.9/site-packages/statsmodels/tsa/base/tsa_model.py:536: ValueWarning: No frequency information was provided, so inferred frequency D will be used.\n",
      "  warnings.warn('No frequency information was'\n"
     ]
    }
   ],
   "source": [
    "# p was changed from 2 to 1 to ensure that all p-value is below 0.05.\n",
    "model=ARIMA(df_arima[\"comm_weekly_ratio\"],order=(1,0,6))\n",
    "model_fit=model.fit()"
   ]
  },
  {
   "cell_type": "code",
   "execution_count": 278,
   "id": "b2a8a2b5",
   "metadata": {
    "scrolled": false
   },
   "outputs": [
    {
     "data": {
      "text/html": [
       "<table class=\"simpletable\">\n",
       "<caption>SARIMAX Results</caption>\n",
       "<tr>\n",
       "  <th>Dep. Variable:</th>   <td>comm_weekly_ratio</td> <th>  No. Observations:  </th>    <td>704</td>   \n",
       "</tr>\n",
       "<tr>\n",
       "  <th>Model:</th>            <td>ARIMA(1, 0, 6)</td>   <th>  Log Likelihood     </th> <td>-1100.690</td>\n",
       "</tr>\n",
       "<tr>\n",
       "  <th>Date:</th>            <td>Mon, 10 Jan 2022</td>  <th>  AIC                </th> <td>2219.380</td> \n",
       "</tr>\n",
       "<tr>\n",
       "  <th>Time:</th>                <td>21:27:48</td>      <th>  BIC                </th> <td>2260.391</td> \n",
       "</tr>\n",
       "<tr>\n",
       "  <th>Sample:</th>             <td>02-06-2020</td>     <th>  HQIC               </th> <td>2235.229</td> \n",
       "</tr>\n",
       "<tr>\n",
       "  <th></th>                   <td>- 01-09-2022</td>    <th>                     </th>     <td> </td>    \n",
       "</tr>\n",
       "<tr>\n",
       "  <th>Covariance Type:</th>        <td>opg</td>        <th>                     </th>     <td> </td>    \n",
       "</tr>\n",
       "</table>\n",
       "<table class=\"simpletable\">\n",
       "<tr>\n",
       "     <td></td>       <th>coef</th>     <th>std err</th>      <th>z</th>      <th>P>|z|</th>  <th>[0.025</th>    <th>0.975]</th>  \n",
       "</tr>\n",
       "<tr>\n",
       "  <th>const</th>  <td>    1.3761</td> <td>    0.371</td> <td>    3.709</td> <td> 0.000</td> <td>    0.649</td> <td>    2.103</td>\n",
       "</tr>\n",
       "<tr>\n",
       "  <th>ar.L1</th>  <td>    0.2902</td> <td>    0.124</td> <td>    2.340</td> <td> 0.019</td> <td>    0.047</td> <td>    0.533</td>\n",
       "</tr>\n",
       "<tr>\n",
       "  <th>ma.L1</th>  <td>    0.5910</td> <td>    0.123</td> <td>    4.788</td> <td> 0.000</td> <td>    0.349</td> <td>    0.833</td>\n",
       "</tr>\n",
       "<tr>\n",
       "  <th>ma.L2</th>  <td>    0.5284</td> <td>    0.119</td> <td>    4.440</td> <td> 0.000</td> <td>    0.295</td> <td>    0.762</td>\n",
       "</tr>\n",
       "<tr>\n",
       "  <th>ma.L3</th>  <td>    0.4233</td> <td>    0.118</td> <td>    3.578</td> <td> 0.000</td> <td>    0.191</td> <td>    0.655</td>\n",
       "</tr>\n",
       "<tr>\n",
       "  <th>ma.L4</th>  <td>    0.3063</td> <td>    0.092</td> <td>    3.321</td> <td> 0.001</td> <td>    0.126</td> <td>    0.487</td>\n",
       "</tr>\n",
       "<tr>\n",
       "  <th>ma.L5</th>  <td>    0.2475</td> <td>    0.059</td> <td>    4.177</td> <td> 0.000</td> <td>    0.131</td> <td>    0.364</td>\n",
       "</tr>\n",
       "<tr>\n",
       "  <th>ma.L6</th>  <td>    0.1539</td> <td>    0.047</td> <td>    3.242</td> <td> 0.001</td> <td>    0.061</td> <td>    0.247</td>\n",
       "</tr>\n",
       "<tr>\n",
       "  <th>sigma2</th> <td>    1.3327</td> <td>    0.019</td> <td>   71.808</td> <td> 0.000</td> <td>    1.296</td> <td>    1.369</td>\n",
       "</tr>\n",
       "</table>\n",
       "<table class=\"simpletable\">\n",
       "<tr>\n",
       "  <th>Ljung-Box (L1) (Q):</th>     <td>0.00</td> <th>  Jarque-Bera (JB):  </th> <td>121015.85</td>\n",
       "</tr>\n",
       "<tr>\n",
       "  <th>Prob(Q):</th>                <td>0.99</td> <th>  Prob(JB):          </th>   <td>0.00</td>   \n",
       "</tr>\n",
       "<tr>\n",
       "  <th>Heteroskedasticity (H):</th> <td>6.20</td> <th>  Skew:              </th>   <td>1.12</td>   \n",
       "</tr>\n",
       "<tr>\n",
       "  <th>Prob(H) (two-sided):</th>    <td>0.00</td> <th>  Kurtosis:          </th>   <td>67.19</td>  \n",
       "</tr>\n",
       "</table><br/><br/>Warnings:<br/>[1] Covariance matrix calculated using the outer product of gradients (complex-step)."
      ],
      "text/plain": [
       "<class 'statsmodels.iolib.summary.Summary'>\n",
       "\"\"\"\n",
       "                               SARIMAX Results                                \n",
       "==============================================================================\n",
       "Dep. Variable:      comm_weekly_ratio   No. Observations:                  704\n",
       "Model:                 ARIMA(1, 0, 6)   Log Likelihood               -1100.690\n",
       "Date:                Mon, 10 Jan 2022   AIC                           2219.380\n",
       "Time:                        21:27:48   BIC                           2260.391\n",
       "Sample:                    02-06-2020   HQIC                          2235.229\n",
       "                         - 01-09-2022                                         \n",
       "Covariance Type:                  opg                                         \n",
       "==============================================================================\n",
       "                 coef    std err          z      P>|z|      [0.025      0.975]\n",
       "------------------------------------------------------------------------------\n",
       "const          1.3761      0.371      3.709      0.000       0.649       2.103\n",
       "ar.L1          0.2902      0.124      2.340      0.019       0.047       0.533\n",
       "ma.L1          0.5910      0.123      4.788      0.000       0.349       0.833\n",
       "ma.L2          0.5284      0.119      4.440      0.000       0.295       0.762\n",
       "ma.L3          0.4233      0.118      3.578      0.000       0.191       0.655\n",
       "ma.L4          0.3063      0.092      3.321      0.001       0.126       0.487\n",
       "ma.L5          0.2475      0.059      4.177      0.000       0.131       0.364\n",
       "ma.L6          0.1539      0.047      3.242      0.001       0.061       0.247\n",
       "sigma2         1.3327      0.019     71.808      0.000       1.296       1.369\n",
       "===================================================================================\n",
       "Ljung-Box (L1) (Q):                   0.00   Jarque-Bera (JB):            121015.85\n",
       "Prob(Q):                              0.99   Prob(JB):                         0.00\n",
       "Heteroskedasticity (H):               6.20   Skew:                             1.12\n",
       "Prob(H) (two-sided):                  0.00   Kurtosis:                        67.19\n",
       "===================================================================================\n",
       "\n",
       "Warnings:\n",
       "[1] Covariance matrix calculated using the outer product of gradients (complex-step).\n",
       "\"\"\""
      ]
     },
     "execution_count": 278,
     "metadata": {},
     "output_type": "execute_result"
    }
   ],
   "source": [
    "# As all p-value is <0.05, thus model is OK.\n",
    "model_fit.summary()"
   ]
  },
  {
   "cell_type": "code",
   "execution_count": 279,
   "id": "f5073832",
   "metadata": {
    "scrolled": false
   },
   "outputs": [
    {
     "name": "stderr",
     "output_type": "stream",
     "text": [
      "/tmp/ipykernel_98657/3957946545.py:1: SettingWithCopyWarning: \n",
      "A value is trying to be set on a copy of a slice from a DataFrame.\n",
      "Try using .loc[row_indexer,col_indexer] = value instead\n",
      "\n",
      "See the caveats in the documentation: https://pandas.pydata.org/pandas-docs/stable/user_guide/indexing.html#returning-a-view-versus-a-copy\n",
      "  df_arima['forecast']=model_fit.predict(start=len(df_arima)-7,end=len(df_arima),dynamic=True)\n"
     ]
    },
    {
     "data": {
      "text/plain": [
       "<AxesSubplot:xlabel='date'>"
      ]
     },
     "execution_count": 279,
     "metadata": {},
     "output_type": "execute_result"
    },
    {
     "data": {
      "image/png": "[encoded data removed]",
      "text/plain": [
       "<Figure size 864x576 with 1 Axes>"
      ]
     },
     "metadata": {
      "needs_background": "light"
     },
     "output_type": "display_data"
    }
   ],
   "source": [
    "df_arima['forecast']=model_fit.predict(start=len(df_arima)-7,end=len(df_arima),dynamic=True)\n",
    "df_arima[['comm_weekly_ratio','forecast']][-7:].plot(figsize=(12,8))"
   ]
  },
  {
   "cell_type": "code",
   "execution_count": 280,
   "id": "f5e19a2c",
   "metadata": {},
   "outputs": [],
   "source": [
    "arima_error = mean_squared_error(df_arima.forecast[-7:],df_arima.comm_weekly_ratio[-7:])\n",
    "error = pd.DataFrame(data=[arima_error], columns=[\"Arima Error mse\"],index=None)"
   ]
  },
  {
   "cell_type": "markdown",
   "id": "71e12d0c",
   "metadata": {},
   "source": [
    "### Training time-series model using LSTM\n",
    "\n"
   ]
  },
  {
   "cell_type": "code",
   "execution_count": 284,
   "id": "129a9c04",
   "metadata": {},
   "outputs": [],
   "source": [
    "#Variables for training\n",
    "cols = list(df)[1:7]\n",
    "df_for_training = df[cols].astype(float)"
   ]
  },
  {
   "cell_type": "code",
   "execution_count": 285,
   "id": "49fdc291",
   "metadata": {},
   "outputs": [
    {
     "name": "stdout",
     "output_type": "stream",
     "text": [
      "['comm_weekly_cases', 'comm_weekly_ratio', 'dorm_weekly_cases', 'dorm_weekly_ratio', 'import_weekly_cases', 'import_weekly_ratio']\n"
     ]
    }
   ],
   "source": [
    "print(cols)"
   ]
  },
  {
   "cell_type": "code",
   "execution_count": 170,
   "id": "ad725456",
   "metadata": {
    "scrolled": true
   },
   "outputs": [],
   "source": [
    "# LSTM uses sigmoid and tanh that are sensitive to magnitude so values need to be normalized\n",
    "# Use StandardScaler() to scale the values\n",
    "scaler = StandardScaler()\n",
    "scaler = scaler.fit(df_for_training)\n",
    "df_for_training_scaled = scaler.transform(df_for_training)"
   ]
  },
  {
   "cell_type": "code",
   "execution_count": 171,
   "id": "6d756965",
   "metadata": {},
   "outputs": [],
   "source": [
    "import pickle\n",
    "pickle.dump(scaler, open('scaler.pkl','wb'))"
   ]
  },
  {
   "cell_type": "code",
   "execution_count": 172,
   "id": "9d27263e",
   "metadata": {},
   "outputs": [],
   "source": [
    "# Initialize training data and target data\n",
    "trainX = []\n",
    "trainY = []\n",
    "\n",
    "# Number of days we are predicting\n",
    "n_future = 1   \n",
    "# 14 days of data from all 6 features in cols is used to predict 1 day of all 6 features.\n",
    "n_past = 14  \n",
    "\n",
    "#Reformat input data into a shape: (n_samples x timesteps x n_features)\n",
    "for i in range(n_past, len(df_for_training_scaled) - n_future +1):\n",
    "    trainX.append(df_for_training_scaled[i - n_past:i, 0:df_for_training.shape[1]])\n",
    "    trainY.append(df_for_training_scaled[i])"
   ]
  },
  {
   "cell_type": "code",
   "execution_count": 173,
   "id": "d1352627",
   "metadata": {
    "scrolled": true
   },
   "outputs": [
    {
     "name": "stdout",
     "output_type": "stream",
     "text": [
      "trainX shape == (690, 14, 6).\n",
      "trainY shape == (690, 6).\n"
     ]
    }
   ],
   "source": [
    "trainX, trainY = np.array(trainX), np.array(trainY)\n",
    "print('trainX shape == {}.'.format(trainX.shape))\n",
    "print('trainY shape == {}.'.format(trainY.shape))"
   ]
  },
  {
   "cell_type": "code",
   "execution_count": 174,
   "id": "54b557d9",
   "metadata": {
    "scrolled": true
   },
   "outputs": [
    {
     "name": "stdout",
     "output_type": "stream",
     "text": [
      "Model: \"sequential_21\"\n",
      "_________________________________________________________________\n",
      " Layer (type)                Output Shape              Param #   \n",
      "=================================================================\n",
      " lstm_37 (LSTM)              (None, 14, 64)            18176     \n",
      "                                                                 \n",
      " lstm_38 (LSTM)              (None, 32)                12416     \n",
      "                                                                 \n",
      " dropout_17 (Dropout)        (None, 32)                0         \n",
      "                                                                 \n",
      " dense_17 (Dense)            (None, 6)                 198       \n",
      "                                                                 \n",
      "=================================================================\n",
      "Total params: 30,790\n",
      "Trainable params: 30,790\n",
      "Non-trainable params: 0\n",
      "_________________________________________________________________\n"
     ]
    }
   ],
   "source": [
    "# Define the Neural network model, LSTM is used.\n",
    "# Model is regularized as model is highly volatile\n",
    "model = Sequential()\n",
    "model.add(LSTM(64, kernel_regularizer=l2(0.05), recurrent_regularizer=l2(0.05), bias_regularizer=l2(0.05), activation='relu', input_shape=(trainX.shape[1], trainX.shape[2]), return_sequences=True))\n",
    "model.add(LSTM(32, kernel_regularizer=l2(0.05), recurrent_regularizer=l2(0.05), bias_regularizer=l2(0.05), activation='relu', return_sequences=False))\n",
    "model.add(Dropout(0.2))\n",
    "model.add(Dense(trainY.shape[1]))\n",
    "# Compile and view summary of model\n",
    "model.compile(optimizer='adam', loss='mse')\n",
    "model.summary()"
   ]
  },
  {
   "cell_type": "code",
   "execution_count": 175,
   "id": "a44a59ff",
   "metadata": {
    "scrolled": true
   },
   "outputs": [
    {
     "name": "stdout",
     "output_type": "stream",
     "text": [
      "Epoch 1/150\n",
      "39/39 - 3s - loss: 12.1539 - val_loss: 10.8985 - 3s/epoch - 65ms/step\n",
      "Epoch 2/150\n",
      "39/39 - 0s - loss: 7.9698 - val_loss: 8.0546 - 276ms/epoch - 7ms/step\n",
      "Epoch 3/150\n",
      "39/39 - 0s - loss: 5.9492 - val_loss: 6.6172 - 271ms/epoch - 7ms/step\n",
      "Epoch 4/150\n",
      "39/39 - 0s - loss: 4.9008 - val_loss: 5.8214 - 271ms/epoch - 7ms/step\n",
      "Epoch 5/150\n",
      "39/39 - 0s - loss: 4.2725 - val_loss: 5.3344 - 277ms/epoch - 7ms/step\n",
      "Epoch 6/150\n",
      "39/39 - 0s - loss: 3.8485 - val_loss: 5.0309 - 285ms/epoch - 7ms/step\n",
      "Epoch 7/150\n",
      "39/39 - 0s - loss: 3.5299 - val_loss: 4.7094 - 286ms/epoch - 7ms/step\n",
      "Epoch 8/150\n",
      "39/39 - 0s - loss: 3.2459 - val_loss: 4.4567 - 281ms/epoch - 7ms/step\n",
      "Epoch 9/150\n",
      "39/39 - 0s - loss: 3.0129 - val_loss: 4.2882 - 295ms/epoch - 8ms/step\n",
      "Epoch 10/150\n",
      "39/39 - 0s - loss: 2.7908 - val_loss: 4.0382 - 296ms/epoch - 8ms/step\n",
      "Epoch 11/150\n",
      "39/39 - 0s - loss: 2.5957 - val_loss: 3.8370 - 281ms/epoch - 7ms/step\n",
      "Epoch 12/150\n",
      "39/39 - 0s - loss: 2.4073 - val_loss: 3.6665 - 282ms/epoch - 7ms/step\n",
      "Epoch 13/150\n",
      "39/39 - 0s - loss: 2.2414 - val_loss: 3.5089 - 261ms/epoch - 7ms/step\n",
      "Epoch 14/150\n",
      "39/39 - 0s - loss: 2.0809 - val_loss: 3.3629 - 263ms/epoch - 7ms/step\n",
      "Epoch 15/150\n",
      "39/39 - 0s - loss: 1.9420 - val_loss: 3.2469 - 275ms/epoch - 7ms/step\n",
      "Epoch 16/150\n",
      "39/39 - 0s - loss: 1.8134 - val_loss: 3.1271 - 271ms/epoch - 7ms/step\n",
      "Epoch 17/150\n",
      "39/39 - 0s - loss: 1.6878 - val_loss: 2.9777 - 275ms/epoch - 7ms/step\n",
      "Epoch 18/150\n",
      "39/39 - 0s - loss: 1.5675 - val_loss: 2.8772 - 275ms/epoch - 7ms/step\n",
      "Epoch 19/150\n",
      "39/39 - 0s - loss: 1.4683 - val_loss: 2.7777 - 285ms/epoch - 7ms/step\n",
      "Epoch 20/150\n",
      "39/39 - 0s - loss: 1.3755 - val_loss: 2.7006 - 271ms/epoch - 7ms/step\n",
      "Epoch 21/150\n",
      "39/39 - 0s - loss: 1.2912 - val_loss: 2.6309 - 275ms/epoch - 7ms/step\n",
      "Epoch 22/150\n",
      "39/39 - 0s - loss: 1.2195 - val_loss: 2.5536 - 279ms/epoch - 7ms/step\n",
      "Epoch 23/150\n",
      "39/39 - 0s - loss: 1.1615 - val_loss: 2.5070 - 272ms/epoch - 7ms/step\n",
      "Epoch 24/150\n",
      "39/39 - 0s - loss: 1.0815 - val_loss: 2.4447 - 291ms/epoch - 7ms/step\n",
      "Epoch 25/150\n",
      "39/39 - 0s - loss: 1.0415 - val_loss: 2.3992 - 301ms/epoch - 8ms/step\n",
      "Epoch 26/150\n",
      "39/39 - 1s - loss: 0.9855 - val_loss: 2.3499 - 777ms/epoch - 20ms/step\n",
      "Epoch 27/150\n",
      "39/39 - 0s - loss: 0.9457 - val_loss: 2.2970 - 294ms/epoch - 8ms/step\n",
      "Epoch 28/150\n",
      "39/39 - 0s - loss: 0.8955 - val_loss: 2.2775 - 271ms/epoch - 7ms/step\n",
      "Epoch 29/150\n",
      "39/39 - 0s - loss: 0.8617 - val_loss: 2.2404 - 298ms/epoch - 8ms/step\n",
      "Epoch 30/150\n",
      "39/39 - 0s - loss: 0.8391 - val_loss: 2.1951 - 265ms/epoch - 7ms/step\n",
      "Epoch 31/150\n",
      "39/39 - 0s - loss: 0.8008 - val_loss: 2.1723 - 281ms/epoch - 7ms/step\n",
      "Epoch 32/150\n",
      "39/39 - 0s - loss: 0.7777 - val_loss: 2.1591 - 274ms/epoch - 7ms/step\n",
      "Epoch 33/150\n",
      "39/39 - 0s - loss: 0.7560 - val_loss: 2.1815 - 279ms/epoch - 7ms/step\n",
      "Epoch 34/150\n",
      "39/39 - 0s - loss: 0.7434 - val_loss: 2.1319 - 288ms/epoch - 7ms/step\n",
      "Epoch 35/150\n",
      "39/39 - 0s - loss: 0.7282 - val_loss: 2.1124 - 288ms/epoch - 7ms/step\n",
      "Epoch 36/150\n",
      "39/39 - 0s - loss: 0.7097 - val_loss: 2.1012 - 281ms/epoch - 7ms/step\n",
      "Epoch 37/150\n",
      "39/39 - 0s - loss: 0.6936 - val_loss: 2.1293 - 279ms/epoch - 7ms/step\n",
      "Epoch 38/150\n",
      "39/39 - 0s - loss: 0.6897 - val_loss: 2.0773 - 277ms/epoch - 7ms/step\n",
      "Epoch 39/150\n",
      "39/39 - 0s - loss: 0.6781 - val_loss: 2.0696 - 282ms/epoch - 7ms/step\n",
      "Epoch 40/150\n",
      "39/39 - 0s - loss: 0.6679 - val_loss: 2.0739 - 290ms/epoch - 7ms/step\n",
      "Epoch 41/150\n",
      "39/39 - 0s - loss: 0.6630 - val_loss: 2.0608 - 275ms/epoch - 7ms/step\n",
      "Epoch 42/150\n",
      "39/39 - 0s - loss: 0.6620 - val_loss: 2.0607 - 271ms/epoch - 7ms/step\n",
      "Epoch 43/150\n",
      "39/39 - 0s - loss: 0.6529 - val_loss: 2.0638 - 277ms/epoch - 7ms/step\n",
      "Epoch 44/150\n",
      "39/39 - 0s - loss: 0.6418 - val_loss: 2.0552 - 277ms/epoch - 7ms/step\n",
      "Epoch 45/150\n",
      "39/39 - 0s - loss: 0.6419 - val_loss: 2.0598 - 268ms/epoch - 7ms/step\n",
      "Epoch 46/150\n",
      "39/39 - 0s - loss: 0.6442 - val_loss: 2.0455 - 274ms/epoch - 7ms/step\n",
      "Epoch 47/150\n",
      "39/39 - 0s - loss: 0.6422 - val_loss: 2.0484 - 287ms/epoch - 7ms/step\n",
      "Epoch 48/150\n",
      "39/39 - 0s - loss: 0.6354 - val_loss: 2.0428 - 283ms/epoch - 7ms/step\n",
      "Epoch 49/150\n",
      "39/39 - 0s - loss: 0.6335 - val_loss: 2.0332 - 275ms/epoch - 7ms/step\n",
      "Epoch 50/150\n",
      "39/39 - 0s - loss: 0.6262 - val_loss: 2.0479 - 278ms/epoch - 7ms/step\n",
      "Epoch 51/150\n",
      "39/39 - 0s - loss: 0.6279 - val_loss: 2.0295 - 281ms/epoch - 7ms/step\n",
      "Epoch 52/150\n",
      "39/39 - 0s - loss: 0.6297 - val_loss: 2.0427 - 281ms/epoch - 7ms/step\n",
      "Epoch 53/150\n",
      "39/39 - 0s - loss: 0.6160 - val_loss: 2.0312 - 280ms/epoch - 7ms/step\n",
      "Epoch 54/150\n",
      "39/39 - 0s - loss: 0.6231 - val_loss: 2.0347 - 275ms/epoch - 7ms/step\n",
      "Epoch 55/150\n",
      "39/39 - 0s - loss: 0.6214 - val_loss: 2.0284 - 281ms/epoch - 7ms/step\n",
      "Epoch 56/150\n",
      "39/39 - 0s - loss: 0.6133 - val_loss: 2.0365 - 286ms/epoch - 7ms/step\n",
      "Epoch 57/150\n",
      "39/39 - 0s - loss: 0.6167 - val_loss: 2.0370 - 284ms/epoch - 7ms/step\n",
      "Epoch 58/150\n",
      "39/39 - 0s - loss: 0.6157 - val_loss: 2.0201 - 285ms/epoch - 7ms/step\n",
      "Epoch 59/150\n",
      "39/39 - 0s - loss: 0.6098 - val_loss: 2.0209 - 289ms/epoch - 7ms/step\n",
      "Epoch 60/150\n",
      "39/39 - 0s - loss: 0.6184 - val_loss: 2.0301 - 277ms/epoch - 7ms/step\n",
      "Epoch 61/150\n",
      "39/39 - 0s - loss: 0.6113 - val_loss: 2.0263 - 277ms/epoch - 7ms/step\n",
      "Epoch 62/150\n",
      "39/39 - 0s - loss: 0.6111 - val_loss: 2.0211 - 281ms/epoch - 7ms/step\n",
      "Epoch 63/150\n",
      "39/39 - 0s - loss: 0.6138 - val_loss: 2.0265 - 271ms/epoch - 7ms/step\n",
      "Epoch 64/150\n",
      "39/39 - 0s - loss: 0.6092 - val_loss: 2.0139 - 282ms/epoch - 7ms/step\n",
      "Epoch 65/150\n",
      "39/39 - 0s - loss: 0.6052 - val_loss: 2.0377 - 276ms/epoch - 7ms/step\n",
      "Epoch 66/150\n",
      "39/39 - 0s - loss: 0.6069 - val_loss: 2.0116 - 282ms/epoch - 7ms/step\n",
      "Epoch 67/150\n",
      "39/39 - 0s - loss: 0.6071 - val_loss: 2.0160 - 289ms/epoch - 7ms/step\n",
      "Epoch 68/150\n",
      "39/39 - 0s - loss: 0.6090 - val_loss: 2.0054 - 297ms/epoch - 8ms/step\n",
      "Epoch 69/150\n",
      "39/39 - 0s - loss: 0.6042 - val_loss: 2.0080 - 287ms/epoch - 7ms/step\n",
      "Epoch 70/150\n",
      "39/39 - 0s - loss: 0.6006 - val_loss: 2.0098 - 277ms/epoch - 7ms/step\n",
      "Epoch 71/150\n",
      "39/39 - 0s - loss: 0.6063 - val_loss: 2.0077 - 279ms/epoch - 7ms/step\n",
      "Epoch 72/150\n",
      "39/39 - 0s - loss: 0.5932 - val_loss: 2.0143 - 291ms/epoch - 7ms/step\n",
      "Epoch 73/150\n",
      "39/39 - 0s - loss: 0.5997 - val_loss: 2.0201 - 281ms/epoch - 7ms/step\n",
      "Epoch 74/150\n",
      "39/39 - 0s - loss: 0.5964 - val_loss: 2.0177 - 275ms/epoch - 7ms/step\n",
      "Epoch 75/150\n",
      "39/39 - 0s - loss: 0.6032 - val_loss: 2.0059 - 280ms/epoch - 7ms/step\n",
      "Epoch 76/150\n",
      "39/39 - 0s - loss: 0.6013 - val_loss: 2.0207 - 279ms/epoch - 7ms/step\n",
      "Epoch 77/150\n",
      "39/39 - 0s - loss: 0.6014 - val_loss: 2.0172 - 281ms/epoch - 7ms/step\n",
      "Epoch 78/150\n",
      "39/39 - 0s - loss: 0.6041 - val_loss: 2.0013 - 270ms/epoch - 7ms/step\n",
      "Epoch 79/150\n",
      "39/39 - 0s - loss: 0.5957 - val_loss: 1.9997 - 275ms/epoch - 7ms/step\n",
      "Epoch 80/150\n",
      "39/39 - 0s - loss: 0.5940 - val_loss: 2.0057 - 277ms/epoch - 7ms/step\n",
      "Epoch 81/150\n",
      "39/39 - 0s - loss: 0.6046 - val_loss: 1.9920 - 279ms/epoch - 7ms/step\n",
      "Epoch 82/150\n",
      "39/39 - 0s - loss: 0.6012 - val_loss: 1.9972 - 283ms/epoch - 7ms/step\n",
      "Epoch 83/150\n",
      "39/39 - 0s - loss: 0.5962 - val_loss: 1.9989 - 286ms/epoch - 7ms/step\n",
      "Epoch 84/150\n",
      "39/39 - 0s - loss: 0.5933 - val_loss: 2.0040 - 292ms/epoch - 7ms/step\n",
      "Epoch 85/150\n",
      "39/39 - 0s - loss: 0.5981 - val_loss: 2.0045 - 286ms/epoch - 7ms/step\n",
      "Epoch 86/150\n",
      "39/39 - 0s - loss: 0.5973 - val_loss: 1.9978 - 280ms/epoch - 7ms/step\n",
      "Epoch 87/150\n",
      "39/39 - 0s - loss: 0.5909 - val_loss: 1.9995 - 284ms/epoch - 7ms/step\n",
      "Epoch 88/150\n",
      "39/39 - 0s - loss: 0.5943 - val_loss: 1.9923 - 283ms/epoch - 7ms/step\n",
      "Epoch 89/150\n",
      "39/39 - 0s - loss: 0.5990 - val_loss: 1.9903 - 271ms/epoch - 7ms/step\n",
      "Epoch 90/150\n",
      "39/39 - 0s - loss: 0.5884 - val_loss: 2.0139 - 274ms/epoch - 7ms/step\n",
      "Epoch 91/150\n",
      "39/39 - 0s - loss: 0.5926 - val_loss: 1.9955 - 275ms/epoch - 7ms/step\n",
      "Epoch 92/150\n",
      "39/39 - 0s - loss: 0.5961 - val_loss: 1.9852 - 296ms/epoch - 8ms/step\n",
      "Epoch 93/150\n",
      "39/39 - 0s - loss: 0.5874 - val_loss: 2.0005 - 298ms/epoch - 8ms/step\n",
      "Epoch 94/150\n",
      "39/39 - 0s - loss: 0.5934 - val_loss: 1.9930 - 290ms/epoch - 7ms/step\n",
      "Epoch 95/150\n",
      "39/39 - 0s - loss: 0.5902 - val_loss: 1.9863 - 290ms/epoch - 7ms/step\n",
      "Epoch 96/150\n",
      "39/39 - 0s - loss: 0.5939 - val_loss: 1.9939 - 294ms/epoch - 8ms/step\n",
      "Epoch 97/150\n",
      "39/39 - 0s - loss: 0.5853 - val_loss: 2.0010 - 313ms/epoch - 8ms/step\n",
      "Epoch 98/150\n",
      "39/39 - 0s - loss: 0.5959 - val_loss: 1.9935 - 296ms/epoch - 8ms/step\n",
      "Epoch 99/150\n",
      "39/39 - 0s - loss: 0.5854 - val_loss: 1.9792 - 282ms/epoch - 7ms/step\n"
     ]
    },
    {
     "name": "stdout",
     "output_type": "stream",
     "text": [
      "Epoch 100/150\n",
      "39/39 - 0s - loss: 0.5911 - val_loss: 1.9809 - 289ms/epoch - 7ms/step\n",
      "Epoch 101/150\n",
      "39/39 - 0s - loss: 0.5821 - val_loss: 2.0009 - 286ms/epoch - 7ms/step\n",
      "Epoch 102/150\n",
      "39/39 - 0s - loss: 0.5771 - val_loss: 1.9941 - 295ms/epoch - 8ms/step\n",
      "Epoch 103/150\n",
      "39/39 - 0s - loss: 0.6014 - val_loss: 1.9880 - 275ms/epoch - 7ms/step\n",
      "Epoch 104/150\n",
      "39/39 - 0s - loss: 0.5909 - val_loss: 1.9788 - 290ms/epoch - 7ms/step\n",
      "Epoch 105/150\n",
      "39/39 - 0s - loss: 0.5906 - val_loss: 1.9867 - 283ms/epoch - 7ms/step\n",
      "Epoch 106/150\n",
      "39/39 - 0s - loss: 0.5843 - val_loss: 1.9818 - 281ms/epoch - 7ms/step\n",
      "Epoch 107/150\n",
      "39/39 - 0s - loss: 0.5787 - val_loss: 1.9787 - 279ms/epoch - 7ms/step\n",
      "Epoch 108/150\n",
      "39/39 - 0s - loss: 0.5829 - val_loss: 1.9723 - 275ms/epoch - 7ms/step\n",
      "Epoch 109/150\n",
      "39/39 - 0s - loss: 0.5749 - val_loss: 1.9741 - 279ms/epoch - 7ms/step\n",
      "Epoch 110/150\n",
      "39/39 - 0s - loss: 0.5768 - val_loss: 1.9719 - 279ms/epoch - 7ms/step\n",
      "Epoch 111/150\n",
      "39/39 - 0s - loss: 0.5721 - val_loss: 1.9743 - 289ms/epoch - 7ms/step\n",
      "Epoch 112/150\n",
      "39/39 - 0s - loss: 0.5829 - val_loss: 1.9828 - 283ms/epoch - 7ms/step\n",
      "Epoch 113/150\n",
      "39/39 - 0s - loss: 0.5765 - val_loss: 1.9767 - 307ms/epoch - 8ms/step\n",
      "Epoch 114/150\n",
      "39/39 - 0s - loss: 0.5728 - val_loss: 1.9725 - 311ms/epoch - 8ms/step\n",
      "Epoch 115/150\n",
      "39/39 - 0s - loss: 0.5778 - val_loss: 1.9791 - 295ms/epoch - 8ms/step\n",
      "Epoch 116/150\n",
      "39/39 - 0s - loss: 0.5770 - val_loss: 1.9916 - 278ms/epoch - 7ms/step\n",
      "Epoch 117/150\n",
      "39/39 - 0s - loss: 0.5764 - val_loss: 1.9794 - 293ms/epoch - 8ms/step\n",
      "Epoch 118/150\n",
      "39/39 - 0s - loss: 0.5739 - val_loss: 1.9840 - 292ms/epoch - 7ms/step\n",
      "Epoch 119/150\n",
      "39/39 - 0s - loss: 0.5676 - val_loss: 1.9702 - 278ms/epoch - 7ms/step\n",
      "Epoch 120/150\n",
      "39/39 - 0s - loss: 0.5817 - val_loss: 1.9754 - 287ms/epoch - 7ms/step\n",
      "Epoch 121/150\n",
      "39/39 - 0s - loss: 0.5762 - val_loss: 1.9588 - 281ms/epoch - 7ms/step\n",
      "Epoch 122/150\n",
      "39/39 - 0s - loss: 0.5695 - val_loss: 1.9682 - 289ms/epoch - 7ms/step\n",
      "Epoch 123/150\n",
      "39/39 - 0s - loss: 0.5741 - val_loss: 1.9695 - 284ms/epoch - 7ms/step\n",
      "Epoch 124/150\n",
      "39/39 - 0s - loss: 0.5622 - val_loss: 1.9671 - 290ms/epoch - 7ms/step\n",
      "Epoch 125/150\n",
      "39/39 - 0s - loss: 0.5712 - val_loss: 1.9762 - 275ms/epoch - 7ms/step\n",
      "Epoch 126/150\n",
      "39/39 - 0s - loss: 0.5695 - val_loss: 1.9901 - 275ms/epoch - 7ms/step\n",
      "Epoch 127/150\n",
      "39/39 - 0s - loss: 0.5617 - val_loss: 1.9796 - 289ms/epoch - 7ms/step\n",
      "Epoch 128/150\n",
      "39/39 - 0s - loss: 0.5657 - val_loss: 1.9763 - 277ms/epoch - 7ms/step\n",
      "Epoch 129/150\n",
      "39/39 - 0s - loss: 0.5580 - val_loss: 1.9815 - 279ms/epoch - 7ms/step\n",
      "Epoch 130/150\n",
      "39/39 - 0s - loss: 0.5714 - val_loss: 1.9720 - 283ms/epoch - 7ms/step\n",
      "Epoch 131/150\n",
      "39/39 - 0s - loss: 0.5544 - val_loss: 1.9750 - 281ms/epoch - 7ms/step\n",
      "Epoch 132/150\n",
      "39/39 - 0s - loss: 0.5657 - val_loss: 1.9747 - 279ms/epoch - 7ms/step\n",
      "Epoch 133/150\n",
      "39/39 - 0s - loss: 0.5612 - val_loss: 1.9680 - 269ms/epoch - 7ms/step\n",
      "Epoch 134/150\n",
      "39/39 - 0s - loss: 0.5653 - val_loss: 1.9677 - 285ms/epoch - 7ms/step\n",
      "Epoch 135/150\n",
      "39/39 - 0s - loss: 0.5585 - val_loss: 1.9562 - 280ms/epoch - 7ms/step\n",
      "Epoch 136/150\n",
      "39/39 - 0s - loss: 0.5576 - val_loss: 1.9618 - 278ms/epoch - 7ms/step\n",
      "Epoch 137/150\n",
      "39/39 - 0s - loss: 0.5548 - val_loss: 1.9656 - 276ms/epoch - 7ms/step\n",
      "Epoch 138/150\n",
      "39/39 - 0s - loss: 0.5684 - val_loss: 1.9600 - 280ms/epoch - 7ms/step\n",
      "Epoch 139/150\n",
      "39/39 - 0s - loss: 0.5513 - val_loss: 1.9774 - 290ms/epoch - 7ms/step\n",
      "Epoch 140/150\n",
      "39/39 - 0s - loss: 0.5568 - val_loss: 1.9600 - 274ms/epoch - 7ms/step\n",
      "Epoch 141/150\n",
      "39/39 - 0s - loss: 0.5518 - val_loss: 1.9647 - 279ms/epoch - 7ms/step\n",
      "Epoch 142/150\n",
      "39/39 - 0s - loss: 0.5530 - val_loss: 1.9743 - 274ms/epoch - 7ms/step\n",
      "Epoch 143/150\n",
      "39/39 - 0s - loss: 0.5552 - val_loss: 1.9732 - 287ms/epoch - 7ms/step\n",
      "Epoch 144/150\n",
      "39/39 - 0s - loss: 0.5523 - val_loss: 1.9665 - 286ms/epoch - 7ms/step\n",
      "Epoch 145/150\n",
      "39/39 - 0s - loss: 0.5543 - val_loss: 1.9636 - 282ms/epoch - 7ms/step\n",
      "Epoch 146/150\n",
      "39/39 - 0s - loss: 0.5470 - val_loss: 1.9705 - 288ms/epoch - 7ms/step\n",
      "Epoch 147/150\n",
      "39/39 - 0s - loss: 0.5423 - val_loss: 1.9590 - 284ms/epoch - 7ms/step\n",
      "Epoch 148/150\n",
      "39/39 - 0s - loss: 0.5438 - val_loss: 1.9565 - 277ms/epoch - 7ms/step\n",
      "Epoch 149/150\n",
      "39/39 - 0s - loss: 0.5432 - val_loss: 1.9738 - 288ms/epoch - 7ms/step\n",
      "Epoch 150/150\n",
      "39/39 - 0s - loss: 0.5420 - val_loss: 1.9726 - 284ms/epoch - 7ms/step\n"
     ]
    },
    {
     "data": {
      "text/plain": [
       "<matplotlib.legend.Legend at 0x7fc8ac1319d0>"
      ]
     },
     "execution_count": 175,
     "metadata": {},
     "output_type": "execute_result"
    },
    {
     "data": {
      "image/png": "[encoded data removed]",
      "text/plain": [
       "<Figure size 432x288 with 1 Axes>"
      ]
     },
     "metadata": {
      "needs_background": "light"
     },
     "output_type": "display_data"
    }
   ],
   "source": [
    "# fit the model\n",
    "history = model.fit(trainX, trainY, epochs=150, batch_size=16, validation_split=0.1, verbose=2)\n",
    "\n",
    "plt.plot(history.history['loss'], label='Training loss')\n",
    "plt.plot(history.history['val_loss'], label='Validation loss')\n",
    "plt.legend()"
   ]
  },
  {
   "cell_type": "code",
   "execution_count": 177,
   "id": "05363af7",
   "metadata": {
    "scrolled": false
   },
   "outputs": [
    {
     "name": "stdout",
     "output_type": "stream",
     "text": [
      "INFO:tensorflow:Assets written to: covid_model/assets\n"
     ]
    },
    {
     "name": "stderr",
     "output_type": "stream",
     "text": [
      "INFO:tensorflow:Assets written to: covid_model/assets\n",
      "WARNING:absl:<keras.layers.recurrent.LSTMCell object at 0x7fc815acb520> has the same name 'LSTMCell' as a built-in Keras object. Consider renaming <class 'keras.layers.recurrent.LSTMCell'> to avoid naming conflicts when loading with `tf.keras.models.load_model`. If renaming is not possible, pass the object in the `custom_objects` parameter of the load function.\n",
      "WARNING:absl:<keras.layers.recurrent.LSTMCell object at 0x7fc816292310> has the same name 'LSTMCell' as a built-in Keras object. Consider renaming <class 'keras.layers.recurrent.LSTMCell'> to avoid naming conflicts when loading with `tf.keras.models.load_model`. If renaming is not possible, pass the object in the `custom_objects` parameter of the load function.\n"
     ]
    }
   ],
   "source": [
    "# save model\n",
    "model.save('covid_model')"
   ]
  },
  {
   "cell_type": "code",
   "execution_count": 182,
   "id": "6e2ec3e9",
   "metadata": {
    "scrolled": true
   },
   "outputs": [
    {
     "data": {
      "text/plain": [
       "[Timestamp('2022-01-03 00:00:00', freq='D'),\n",
       " Timestamp('2022-01-04 00:00:00', freq='D'),\n",
       " Timestamp('2022-01-05 00:00:00', freq='D'),\n",
       " Timestamp('2022-01-06 00:00:00', freq='D'),\n",
       " Timestamp('2022-01-07 00:00:00', freq='D'),\n",
       " Timestamp('2022-01-08 00:00:00', freq='D'),\n",
       " Timestamp('2022-01-09 00:00:00', freq='D')]"
      ]
     },
     "execution_count": 182,
     "metadata": {},
     "output_type": "execute_result"
    }
   ],
   "source": [
    "# when the first date of predicted day start from\n",
    "n_past = 7\n",
    "# Number of days to be predicted\n",
    "n_days_for_prediction=7\n",
    "# List of dates that is predicted.\n",
    "predict_period_dates = pd.date_range(list(train_dates)[-n_past], periods=n_days_for_prediction).tolist()\n",
    "\n",
    "#Make prediction\n",
    "prediction = model.predict(trainX[-n_days_for_prediction:]) \n",
    "# transform scaled to non-scaled values\n",
    "y_pred_future = scaler.inverse_transform(prediction)"
   ]
  },
  {
   "cell_type": "code",
   "execution_count": 189,
   "id": "9840a854",
   "metadata": {
    "scrolled": true
   },
   "outputs": [
    {
     "name": "stderr",
     "output_type": "stream",
     "text": [
      "/tmp/ipykernel_98657/2797934760.py:11: SettingWithCopyWarning: \n",
      "A value is trying to be set on a copy of a slice from a DataFrame.\n",
      "Try using .loc[row_indexer,col_indexer] = value instead\n",
      "\n",
      "See the caveats in the documentation: https://pandas.pydata.org/pandas-docs/stable/user_guide/indexing.html#returning-a-view-versus-a-copy\n",
      "  original['date']=pd.to_datetime(original['date'])\n"
     ]
    }
   ],
   "source": [
    "# Convert timestamp to date\n",
    "forecast_dates = []\n",
    "for time_i in predict_period_dates:\n",
    "    forecast_dates.append(time_i.date())\n",
    "\n",
    "# Predicted data using LSTM model    \n",
    "df_forecast = pd.DataFrame({'date':np.array(forecast_dates), 'comm_weekly_ratio':y_pred_future[:,1]})\n",
    "df_forecast['date']=pd.to_datetime(df_forecast['date'])\n",
    "\n",
    "# Original data\n",
    "original = df[['date', 'comm_weekly_ratio']]\n",
    "original['date']=pd.to_datetime(original['date'])\n",
    "original = original.loc[original['date'] >= '2022-01-03']"
   ]
  },
  {
   "cell_type": "code",
   "execution_count": 190,
   "id": "c4dd406c",
   "metadata": {
    "scrolled": false
   },
   "outputs": [
    {
     "name": "stderr",
     "output_type": "stream",
     "text": [
      "/home/ken/git_repo/API_project/venv/lib/python3.9/site-packages/seaborn/_decorators.py:36: FutureWarning: Pass the following variables as keyword args: x, y. From version 0.12, the only valid positional argument will be `data`, and passing other arguments without an explicit keyword will result in an error or misinterpretation.\n",
      "  warnings.warn(\n",
      "/home/ken/git_repo/API_project/venv/lib/python3.9/site-packages/seaborn/_decorators.py:36: FutureWarning: Pass the following variables as keyword args: x, y. From version 0.12, the only valid positional argument will be `data`, and passing other arguments without an explicit keyword will result in an error or misinterpretation.\n",
      "  warnings.warn(\n"
     ]
    },
    {
     "data": {
      "text/plain": [
       "<AxesSubplot:title={'center':'Covid community Weekly ratio: Original(Blue) & Forecast(Orange)'}, xlabel='date', ylabel='comm_weekly_ratio'>"
      ]
     },
     "execution_count": 190,
     "metadata": {},
     "output_type": "execute_result"
    },
    {
     "data": {
      "image/png": "[encoded data removed]",
      "text/plain": [
       "<Figure size 1080x360 with 1 Axes>"
      ]
     },
     "metadata": {
      "needs_background": "light"
     },
     "output_type": "display_data"
    }
   ],
   "source": [
    "fig, ax = plt.subplots(figsize=(15,5))\n",
    "ax.set_title('Covid community Weekly ratio: Original(Blue) & Forecast(Orange)')\n",
    "# original is blue\n",
    "sns.lineplot(original['date'], original['comm_weekly_ratio'],ax=ax)\n",
    "# Forcast is orange\n",
    "sns.lineplot(df_forecast['date'], df_forecast['comm_weekly_ratio'], ax=ax)"
   ]
  },
  {
   "cell_type": "code",
   "execution_count": 281,
   "id": "8d8e2b31",
   "metadata": {},
   "outputs": [],
   "source": [
    "LSTM_error = mean_squared_error(original['comm_weekly_ratio'],df_forecast['comm_weekly_ratio'])\n",
    "error[\"LSTM Error mse\"]=[LSTM_error]"
   ]
  },
  {
   "cell_type": "code",
   "execution_count": 282,
   "id": "cd9cdb2d",
   "metadata": {},
   "outputs": [
    {
     "data": {
      "text/html": [
       "<div>\n",
       "<style scoped>\n",
       "    .dataframe tbody tr th:only-of-type {\n",
       "        vertical-align: middle;\n",
       "    }\n",
       "\n",
       "    .dataframe tbody tr th {\n",
       "        vertical-align: top;\n",
       "    }\n",
       "\n",
       "    .dataframe thead th {\n",
       "        text-align: right;\n",
       "    }\n",
       "</style>\n",
       "<table border=\"1\" class=\"dataframe\">\n",
       "  <thead>\n",
       "    <tr style=\"text-align: right;\">\n",
       "      <th></th>\n",
       "      <th>Arima Error mse</th>\n",
       "      <th>LSTM Error mse</th>\n",
       "    </tr>\n",
       "  </thead>\n",
       "  <tbody>\n",
       "    <tr>\n",
       "      <th>0</th>\n",
       "      <td>0.076014</td>\n",
       "      <td>0.054563</td>\n",
       "    </tr>\n",
       "  </tbody>\n",
       "</table>\n",
       "</div>"
      ],
      "text/plain": [
       "   Arima Error mse  LSTM Error mse\n",
       "0         0.076014        0.054563"
      ]
     },
     "execution_count": 282,
     "metadata": {},
     "output_type": "execute_result"
    }
   ],
   "source": [
    "error"
   ]
  }
 ],
 "metadata": {
  "kernelspec": {
   "display_name": "Python 3 (ipykernel)",
   "language": "python",
   "name": "python3"
  },
  "language_info": {
   "codemirror_mode": {
    "name": "ipython",
    "version": 3
   },
   "file_extension": ".py",
   "mimetype": "text/x-python",
   "name": "python",
   "nbconvert_exporter": "python",
   "pygments_lexer": "ipython3",
   "version": "3.9.7"
  }
 },
 "nbformat": 4,
 "nbformat_minor": 5
}
